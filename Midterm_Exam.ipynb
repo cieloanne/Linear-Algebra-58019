{
  "nbformat": 4,
  "nbformat_minor": 0,
  "metadata": {
    "colab": {
      "name": "Midterm Exam.ipynb",
      "provenance": [],
      "authorship_tag": "ABX9TyNcN3nHYra+HnsHdub1/mVe",
      "include_colab_link": true
    },
    "kernelspec": {
      "name": "python3",
      "display_name": "Python 3"
    },
    "language_info": {
      "name": "python"
    }
  },
  "cells": [
    {
      "cell_type": "markdown",
      "metadata": {
        "id": "view-in-github",
        "colab_type": "text"
      },
      "source": [
        "<a href=\"https://colab.research.google.com/github/cieloanne/Linear-Algebra-58019/blob/main/Midterm_Exam.ipynb\" target=\"_parent\"><img src=\"https://colab.research.google.com/assets/colab-badge.svg\" alt=\"Open In Colab\"/></a>"
      ]
    },
    {
      "cell_type": "markdown",
      "metadata": {
        "id": "Rieemzix5XAh"
      },
      "source": [
        "# Question 1. Create a Python code that displays a square matrix whose length is 5 "
      ]
    },
    {
      "cell_type": "code",
      "metadata": {
        "colab": {
          "base_uri": "https://localhost:8080/"
        },
        "id": "LVDHx7GV5gZ7",
        "outputId": "5e6cde6f-7785-49ea-98d0-2f44cd0f1646"
      },
      "source": [
        "square_matrix = np.identity(5)\n",
        "print(square_matrix)"
      ],
      "execution_count": 15,
      "outputs": [
        {
          "output_type": "stream",
          "name": "stdout",
          "text": [
            "[[1. 0. 0. 0. 0.]\n",
            " [0. 1. 0. 0. 0.]\n",
            " [0. 0. 1. 0. 0.]\n",
            " [0. 0. 0. 1. 0.]\n",
            " [0. 0. 0. 0. 1.]]\n"
          ]
        }
      ]
    },
    {
      "cell_type": "markdown",
      "metadata": {
        "id": "uApNGwUt5hS9"
      },
      "source": [
        "# Question 2. Create a Python code that displays a square matrix whose elements below the principal diagonal are zero "
      ]
    },
    {
      "cell_type": "code",
      "metadata": {
        "colab": {
          "base_uri": "https://localhost:8080/"
        },
        "id": "7-SMxCWz5lCj",
        "outputId": "81a3e0ab-9beb-436a-bce1-a7cfdeef915f"
      },
      "source": [
        "import numpy as np\n",
        "upper_triangular_matrix = np.array([[1,2,3],[0,3,1],[0,0,5]])\n",
        "print(upper_triangular_matrix)"
      ],
      "execution_count": 8,
      "outputs": [
        {
          "output_type": "stream",
          "name": "stdout",
          "text": [
            "[[1 2 3]\n",
            " [0 3 1]\n",
            " [0 0 5]]\n"
          ]
        }
      ]
    },
    {
      "cell_type": "markdown",
      "metadata": {
        "id": "FzLgcoet5lwX"
      },
      "source": [
        "# Question 3. Create a Python code that displays a square matrix which is symmetrical "
      ]
    },
    {
      "cell_type": "code",
      "metadata": {
        "colab": {
          "base_uri": "https://localhost:8080/"
        },
        "id": "NPrdmvcu5ojT",
        "outputId": "60d2692a-ca5e-4ed8-d8d8-5718feaff9d2"
      },
      "source": [
        "import numpy as np\n",
        "square_matrix = np.array([[2,4,6,8,10],[1,3,5,7,8],[6,4,2,1,6],[8,7,5,3,1],[10,8,6,4,2]])\n",
        "print(square_matrix)"
      ],
      "execution_count": 22,
      "outputs": [
        {
          "output_type": "stream",
          "name": "stdout",
          "text": [
            "[[ 2  4  6  8 10]\n",
            " [ 1  3  5  7  8]\n",
            " [ 6  4  2  1  6]\n",
            " [ 8  7  5  3  1]\n",
            " [10  8  6  4  2]]\n"
          ]
        }
      ]
    },
    {
      "cell_type": "markdown",
      "metadata": {
        "id": "MOwBd9k05pNv"
      },
      "source": [
        "# Question 4. What is the inverse of matrix C? Show your solution by python coding."
      ]
    },
    {
      "cell_type": "code",
      "metadata": {
        "colab": {
          "base_uri": "https://localhost:8080/"
        },
        "id": "7QyVjF9X5sMD",
        "outputId": "9484792b-8b8b-4dad-ac21-1e147221961f"
      },
      "source": [
        "import numpy as np\n",
        "C = np.array([[1,2,3],[2,3,3],[3,4,-2]])\n",
        "print(C)\n",
        "inv_C = np.linalg.inv(C)\n",
        "\n",
        "print(inv_C)"
      ],
      "execution_count": 3,
      "outputs": [
        {
          "output_type": "stream",
          "name": "stdout",
          "text": [
            "[[ 1  2  3]\n",
            " [ 2  3  3]\n",
            " [ 3  4 -2]]\n",
            "[[-3.6  3.2 -0.6]\n",
            " [ 2.6 -2.2  0.6]\n",
            " [-0.2  0.4 -0.2]]\n"
          ]
        }
      ]
    },
    {
      "cell_type": "markdown",
      "metadata": {
        "id": "ury2WPbx5sZq"
      },
      "source": [
        "# Question 5. What is the determinant of the given matrix in Question 4? Show your solution by python coding."
      ]
    },
    {
      "cell_type": "code",
      "metadata": {
        "colab": {
          "base_uri": "https://localhost:8080/"
        },
        "id": "4X-lhrMN5v1R",
        "outputId": "3f99767f-4565-4c7c-9f17-bf07322c0051"
      },
      "source": [
        "import numpy as np\n",
        "C = np.array ([[1,2,3],[2,3,3],[3,4,-2]])\n",
        "\n",
        "detOfC = np.linalg.det(C)\n",
        "\n",
        "print(\"Determinant of the given matrix in Question 4:\")\n",
        "print(int(detOfC))"
      ],
      "execution_count": 2,
      "outputs": [
        {
          "output_type": "stream",
          "name": "stdout",
          "text": [
            "Determinant of the given matrix in Question 4:\n",
            "5\n"
          ]
        }
      ]
    },
    {
      "cell_type": "markdown",
      "metadata": {
        "id": "L3Nufyjv5wG_"
      },
      "source": [
        "# Question 6. Find the roots of the linear equations by showing its python codes "
      ]
    },
    {
      "cell_type": "code",
      "metadata": {
        "colab": {
          "base_uri": "https://localhost:8080/"
        },
        "id": "yqyJ4dIc5zlG",
        "outputId": "de9fb537-841d-4d0b-b547-553e8c37c8e1"
      },
      "source": [
        "import numpy as np\n",
        "Equations = np.array([[5,4,1],\n",
        "                      [10,9,4],\n",
        "                      [10,13,15]])\n",
        "\n",
        "Constants = np.array([[[3.4],\n",
        "                       [8.8],\n",
        "                       [19.2]]])\n",
        "\n",
        "roots = np.linalg.inv(Equations) @ Constants\n",
        "\n",
        "print(\"Roots of the linear equations:\")\n",
        "print(roots)"
      ],
      "execution_count": 6,
      "outputs": [
        {
          "output_type": "stream",
          "name": "stdout",
          "text": [
            "Roots of the linear equations:\n",
            "[[[0.2]\n",
            "  [0.4]\n",
            "  [0.8]]]\n"
          ]
        }
      ]
    }
  ]
}