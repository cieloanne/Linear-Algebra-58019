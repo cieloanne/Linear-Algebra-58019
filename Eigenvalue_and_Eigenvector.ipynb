{
  "nbformat": 4,
  "nbformat_minor": 0,
  "metadata": {
    "colab": {
      "name": "Eigenvalue and Eigenvector.ipynb",
      "provenance": [],
      "authorship_tag": "ABX9TyMSaqJyRMYRDl1yhR1szHr9",
      "include_colab_link": true
    },
    "kernelspec": {
      "name": "python3",
      "display_name": "Python 3"
    },
    "language_info": {
      "name": "python"
    }
  },
  "cells": [
    {
      "cell_type": "markdown",
      "metadata": {
        "id": "view-in-github",
        "colab_type": "text"
      },
      "source": [
        "<a href=\"https://colab.research.google.com/github/cieloanne/Linear-Algebra-58019/blob/main/Eigenvalue_and_Eigenvector.ipynb\" target=\"_parent\"><img src=\"https://colab.research.google.com/assets/colab-badge.svg\" alt=\"Open In Colab\"/></a>"
      ]
    },
    {
      "cell_type": "code",
      "execution_count": null,
      "metadata": {
        "id": "3BK3vleaSxo2"
      },
      "outputs": [],
      "source": [
        "import numpy as np #Import numpy lib\n",
        "from numpy.linalg import eig\n",
        "\n",
        "A = np.array([[-12,3],[4,1]]) #Create a 2x2 matrix A\n",
        "print(A) #This is to display matrix A\n",
        "\n",
        "inv_A = np.linalg.inv(A) #The inverse of Matrix A\n",
        "print(inv_A) #This is to display inverse of matrix A\n",
        "\n",
        "B = np.array([[0],[0]]) #Create a 2x2 matrix B\n",
        "print(B) #This displays the matrix B\n",
        "\n",
        "X = np.dot(inv_A,B) #Dot product of inverse of matrix A and matrix B\n",
        "print(X) #Displays the dot product\n",
        "#X = solve(A,B)\n",
        "#print(X)"
      ]
    },
    {
      "cell_type": "code",
      "source": [
        "import numpy as np\n",
        "A = np.array([[-6,3],[4,5]]) #Create a 2x2 matrix A\n",
        "print(A) #Displays matrix A\n",
        "\n",
        "w,v = np.linalg.eig(A)\n",
        "#Display the output\n",
        "print(\"The eigenvalue/s is/are:\",w)\n",
        "print(\"The right eigenvectors are:\",v)\n",
        "#x = v.round()\n",
        "#print(x)"
      ],
      "metadata": {
        "colab": {
          "base_uri": "https://localhost:8080/"
        },
        "id": "johjNAPCTF7L",
        "outputId": "cd26e449-c507-4202-e05f-2f04d4e85cc7"
      },
      "execution_count": 2,
      "outputs": [
        {
          "output_type": "stream",
          "name": "stdout",
          "text": [
            "[[-6  3]\n",
            " [ 4  5]]\n",
            "The eigenvalue/s is/are: [-7.  6.]\n",
            "The right eigenvectors are: [[-0.9486833  -0.24253563]\n",
            " [ 0.31622777 -0.9701425 ]]\n"
          ]
        }
      ]
    },
    {
      "cell_type": "code",
      "source": [
        "import numpy as np\n",
        "A = np.array([[2,2,4],[1,3,5],[2,3,4]]) #Create a 3x3 matrix A\n",
        "print(A) #Displays matrix A\n",
        "s,t = np.linalg.eig(A)\n",
        "print(s.round())\n",
        "print(t.round())\n",
        "#Compute eigenvalues and right eigenvectors of a square array\n",
        "c = np.dot(A,t.round()) #Dot product of A and t\n",
        "print(c) #Final output"
      ],
      "metadata": {
        "colab": {
          "base_uri": "https://localhost:8080/"
        },
        "id": "GuYSCxhUTJRN",
        "outputId": "b7bcc946-6aac-497e-8379-5817a6ab7bb0"
      },
      "execution_count": 3,
      "outputs": [
        {
          "output_type": "stream",
          "name": "stdout",
          "text": [
            "[[2 2 4]\n",
            " [1 3 5]\n",
            " [2 3 4]]\n",
            "[ 9.  1. -1.]\n",
            "[[-1. -1. -0.]\n",
            " [-1.  1. -1.]\n",
            " [-1. -0.  1.]]\n",
            "[[-8.  0.  2.]\n",
            " [-9.  2.  2.]\n",
            " [-9.  1.  1.]]\n"
          ]
        }
      ]
    }
  ]
}