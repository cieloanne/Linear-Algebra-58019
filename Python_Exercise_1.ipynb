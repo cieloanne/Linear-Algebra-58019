{
  "nbformat": 4,
  "nbformat_minor": 0,
  "metadata": {
    "colab": {
      "name": "Python Exercise 1.ipynb",
      "provenance": [],
      "authorship_tag": "ABX9TyMOl55rqIIs2RuW7BnOuyQP",
      "include_colab_link": true
    },
    "kernelspec": {
      "name": "python3",
      "display_name": "Python 3"
    },
    "language_info": {
      "name": "python"
    }
  },
  "cells": [
    {
      "cell_type": "markdown",
      "metadata": {
        "id": "view-in-github",
        "colab_type": "text"
      },
      "source": [
        "<a href=\"https://colab.research.google.com/github/cieloanne/Linear-Algebra-58019/blob/main/Python_Exercise_1.ipynb\" target=\"_parent\"><img src=\"https://colab.research.google.com/assets/colab-badge.svg\" alt=\"Open In Colab\"/></a>"
      ]
    },
    {
      "cell_type": "code",
      "metadata": {
        "colab": {
          "base_uri": "https://localhost:8080/"
        },
        "id": "k-0eBDisBIKl",
        "outputId": "872f99e0-10a2-48e8-f1fb-5dcd4ff75c2a"
      },
      "source": [
        "import numpy as np\n",
        "a = np.array ([[-5,0],[4,1]])\n",
        "b= np.array ([[6,-3],[2,3]])\n",
        "print(\"Sum of A and B:\")\n",
        "print(a+b)"
      ],
      "execution_count": 1,
      "outputs": [
        {
          "output_type": "stream",
          "name": "stdout",
          "text": [
            "Sum of A and B:\n",
            "[[ 1 -3]\n",
            " [ 6  4]]\n"
          ]
        }
      ]
    },
    {
      "cell_type": "code",
      "metadata": {
        "colab": {
          "base_uri": "https://localhost:8080/"
        },
        "id": "i031eRfFBJ1W",
        "outputId": "12803091-cbab-42f6-a5e4-bd78ce51830c"
      },
      "source": [
        "import numpy as np\n",
        "a = np.array ([[-5,0],[4,1]])\n",
        "b= np.array ([[6,-3],[2,3]])\n",
        "print(\"Difference of B and A:\")\n",
        "print(b-a)"
      ],
      "execution_count": 2,
      "outputs": [
        {
          "output_type": "stream",
          "name": "stdout",
          "text": [
            "Difference of B and A:\n",
            "[[11 -3]\n",
            " [-2  2]]\n"
          ]
        }
      ]
    },
    {
      "cell_type": "code",
      "metadata": {
        "colab": {
          "base_uri": "https://localhost:8080/"
        },
        "id": "YXy8wY28BKA-",
        "outputId": "67e68a9e-13e3-464c-f562-91e242492ef5"
      },
      "source": [
        "import numpy as np\n",
        "a = np.array ([[-5,0],[4,1]])\n",
        "b= np.array ([[6,-3],[2,3]])\n",
        "print(\"Difference of A and B:\")\n",
        "print(a-b)"
      ],
      "execution_count": 3,
      "outputs": [
        {
          "output_type": "stream",
          "name": "stdout",
          "text": [
            "Difference of A and B:\n",
            "[[-11   3]\n",
            " [  2  -2]]\n"
          ]
        }
      ]
    }
  ]
}