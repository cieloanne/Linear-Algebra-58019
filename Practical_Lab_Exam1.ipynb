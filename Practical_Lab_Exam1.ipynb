{
  "nbformat": 4,
  "nbformat_minor": 0,
  "metadata": {
    "colab": {
      "name": "Practical Lab Exam1.ipynb",
      "provenance": [],
      "collapsed_sections": [],
      "authorship_tag": "ABX9TyM8NeLowfIwJQqVRoIZ9xts",
      "include_colab_link": true
    },
    "kernelspec": {
      "name": "python3",
      "display_name": "Python 3"
    },
    "language_info": {
      "name": "python"
    }
  },
  "cells": [
    {
      "cell_type": "markdown",
      "metadata": {
        "id": "view-in-github",
        "colab_type": "text"
      },
      "source": [
        "<a href=\"https://colab.research.google.com/github/cieloanne/Linear-Algebra-58019/blob/main/Practical_Lab_Exam1.ipynb\" target=\"_parent\"><img src=\"https://colab.research.google.com/assets/colab-badge.svg\" alt=\"Open In Colab\"/></a>"
      ]
    },
    {
      "cell_type": "markdown",
      "metadata": {
        "id": "MO59PVxz4onO"
      },
      "source": [
        "## Practical Lab Exam 1"
      ]
    },
    {
      "cell_type": "code",
      "metadata": {
        "colab": {
          "base_uri": "https://localhost:8080/"
        },
        "id": "r7pIGCqJo6Qa",
        "outputId": "4f859d88-0d36-4116-c6e0-855cfecb1f36"
      },
      "source": [
        "import numpy as np\n",
        "\n",
        "A = np.array([[1,2,3],[4,5,6]])\n",
        "B = np.array([[1,2],[3,4],[5,6]])\n",
        "C = np.array([[1,2,3],[4,5,6],[7,8,9]])\n",
        "D = np.array([[1,2],[3,4]])\n",
        "\n",
        "dot = np.dot(A,B)\n",
        "sum = np.add(D,D)\n",
        "S = 2*C\n",
        "\n",
        "print(\"A:\")\n",
        "print(dot)\n",
        "print(\"\\nB:\")\n",
        "print(sum)\n",
        "print(\"\\nC:\")\n",
        "print(S)"
      ],
      "execution_count": 10,
      "outputs": [
        {
          "output_type": "stream",
          "name": "stdout",
          "text": [
            "A:\n",
            "[[22 28]\n",
            " [49 64]]\n",
            "\n",
            "B:\n",
            "[[2 4]\n",
            " [6 8]]\n",
            "\n",
            "C:\n",
            "[[ 2  4  6]\n",
            " [ 8 10 12]\n",
            " [14 16 18]]\n"
          ]
        }
      ]
    },
    {
      "cell_type": "code",
      "metadata": {
        "colab": {
          "base_uri": "https://localhost:8080/"
        },
        "id": "02v_xc3S02jT",
        "outputId": "070a1818-9596-4158-fb6f-9a7a6e8c409c"
      },
      "source": [
        "import numpy as np\n",
        "\n",
        "X = np.array([[5],[3],[-1]])\n",
        "\n",
        "print(\"Problem 2: \")\n",
        "print(\"\\nType:\")\n",
        "print(type(X))\n",
        "print(\"\\nDimension:\")\n",
        "print(X.ndim)\n",
        "print(\"\\nShape:\")\n",
        "print(X.shape)\n",
        "\n"
      ],
      "execution_count": 9,
      "outputs": [
        {
          "output_type": "stream",
          "name": "stdout",
          "text": [
            "Problem 2: \n",
            "\n",
            "Type:\n",
            "<class 'numpy.ndarray'>\n",
            "\n",
            "Dimension:\n",
            "2\n",
            "\n",
            "Shape:\n",
            "(3, 1)\n"
          ]
        }
      ]
    }
  ]
}