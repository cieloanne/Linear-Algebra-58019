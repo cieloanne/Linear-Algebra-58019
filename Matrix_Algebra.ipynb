{
  "nbformat": 4,
  "nbformat_minor": 0,
  "metadata": {
    "colab": {
      "name": "Matrix Algebra.ipynb",
      "provenance": [],
      "authorship_tag": "ABX9TyMSFArU5xN1UtNZH3nHKUCz",
      "include_colab_link": true
    },
    "kernelspec": {
      "name": "python3",
      "display_name": "Python 3"
    },
    "language_info": {
      "name": "python"
    }
  },
  "cells": [
    {
      "cell_type": "markdown",
      "metadata": {
        "id": "view-in-github",
        "colab_type": "text"
      },
      "source": [
        "<a href=\"https://colab.research.google.com/github/cieloanne/Linear-Algebra-58019/blob/main/Matrix_Algebra.ipynb\" target=\"_parent\"><img src=\"https://colab.research.google.com/assets/colab-badge.svg\" alt=\"Open In Colab\"/></a>"
      ]
    },
    {
      "cell_type": "markdown",
      "metadata": {
        "id": "ns__nXMAArRu"
      },
      "source": [
        "## Python Program to inverse"
      ]
    },
    {
      "cell_type": "code",
      "metadata": {
        "colab": {
          "base_uri": "https://localhost:8080/"
        },
        "id": "WuSUEI_0AxIm",
        "outputId": "0c46ecfc-c0eb-4d0b-ccd0-912ed56a4194"
      },
      "source": [
        "import numpy as np\n",
        "A = np.array ([[1,2,3],[4,5,6],[7,8,9]])\n",
        "print(A)"
      ],
      "execution_count": 1,
      "outputs": [
        {
          "output_type": "stream",
          "name": "stdout",
          "text": [
            "[[1 2 3]\n",
            " [4 5 6]\n",
            " [7 8 9]]\n"
          ]
        }
      ]
    },
    {
      "cell_type": "code",
      "metadata": {
        "colab": {
          "base_uri": "https://localhost:8080/"
        },
        "id": "3by8PH9NA_Q0",
        "outputId": "200c9172-db8e-4f8c-ae61-982534823cdf"
      },
      "source": [
        "import numpy as np\n",
        "A = np.array ([[1,2],[4,7]])\n",
        "B = (np.linalg.inv(A))\n",
        "print(B)"
      ],
      "execution_count": 2,
      "outputs": [
        {
          "output_type": "stream",
          "name": "stdout",
          "text": [
            "[[-7.  2.]\n",
            " [ 4. -1.]]\n"
          ]
        }
      ]
    },
    {
      "cell_type": "code",
      "metadata": {
        "colab": {
          "base_uri": "https://localhost:8080/"
        },
        "id": "HIfo8EJiBQjp",
        "outputId": "158a0859-cee2-40a1-94f4-338350e18d8f"
      },
      "source": [
        "import numpy as np\n",
        "A = np.array ([[1,2],[4,7]])\n",
        "invA = (np.linalg.inv(A))\n",
        "print(invA)"
      ],
      "execution_count": 3,
      "outputs": [
        {
          "output_type": "stream",
          "name": "stdout",
          "text": [
            "[[-7.  2.]\n",
            " [ 4. -1.]]\n"
          ]
        }
      ]
    },
    {
      "cell_type": "code",
      "metadata": {
        "colab": {
          "base_uri": "https://localhost:8080/"
        },
        "id": "oVa1AZL1Begs",
        "outputId": "cec7ebbd-ba20-4d32-e494-ee1c57d74220"
      },
      "source": [
        "C = np.dot(A,invA)\n",
        "print(C)"
      ],
      "execution_count": 4,
      "outputs": [
        {
          "output_type": "stream",
          "name": "stdout",
          "text": [
            "[[1. 0.]\n",
            " [0. 1.]]\n"
          ]
        }
      ]
    },
    {
      "cell_type": "code",
      "metadata": {
        "colab": {
          "base_uri": "https://localhost:8080/"
        },
        "id": "I99cCPnxBoa0",
        "outputId": "6ffe2e9e-c52b-4f9f-b60a-cd45a6016a71"
      },
      "source": [
        "A = np.array([[6,1,1],[4,-2,5],[2,8,7]])\n",
        "print(A)"
      ],
      "execution_count": 5,
      "outputs": [
        {
          "output_type": "stream",
          "name": "stdout",
          "text": [
            "[[ 6  1  1]\n",
            " [ 4 -2  5]\n",
            " [ 2  8  7]]\n"
          ]
        }
      ]
    },
    {
      "cell_type": "code",
      "metadata": {
        "colab": {
          "base_uri": "https://localhost:8080/"
        },
        "id": "jxJPMY7WB9fj",
        "outputId": "bee92172-5e15-413c-cdb4-74566686a857"
      },
      "source": [
        "A = np.array([[6,1,1],[4,-2,5],[2,8,7]])\n",
        "print(A)\n",
        "B = np.transpose(A)\n",
        "print(B)\n"
      ],
      "execution_count": 6,
      "outputs": [
        {
          "output_type": "stream",
          "name": "stdout",
          "text": [
            "[[ 6  1  1]\n",
            " [ 4 -2  5]\n",
            " [ 2  8  7]]\n",
            "[[ 6  4  2]\n",
            " [ 1 -2  8]\n",
            " [ 1  5  7]]\n"
          ]
        }
      ]
    }
  ]
}