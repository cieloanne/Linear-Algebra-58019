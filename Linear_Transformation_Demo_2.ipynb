{
  "nbformat": 4,
  "nbformat_minor": 0,
  "metadata": {
    "colab": {
      "name": "Linear Transformation Demo 2.ipynb",
      "provenance": [],
      "authorship_tag": "ABX9TyN0z9Vtgh4mnGeQ9sGjEeFt",
      "include_colab_link": true
    },
    "kernelspec": {
      "name": "python3",
      "display_name": "Python 3"
    },
    "language_info": {
      "name": "python"
    }
  },
  "cells": [
    {
      "cell_type": "markdown",
      "metadata": {
        "id": "view-in-github",
        "colab_type": "text"
      },
      "source": [
        "<a href=\"https://colab.research.google.com/github/cieloanne/Linear-Algebra-58019/blob/main/Linear_Transformation_Demo_2.ipynb\" target=\"_parent\"><img src=\"https://colab.research.google.com/assets/colab-badge.svg\" alt=\"Open In Colab\"/></a>"
      ]
    },
    {
      "cell_type": "code",
      "metadata": {
        "colab": {
          "base_uri": "https://localhost:8080/"
        },
        "id": "uoUBz4zYYCYP",
        "outputId": "d22b072b-1ab4-4ab2-8da1-ab8fdd11bf8b"
      },
      "source": [
        "import numpy as np\n",
        "A= np.array([[4,3],[-5,9]]) #Creation of matrix A\n",
        "print(A) #to display or print\n",
        "\n",
        "inv_A = np.linalg.inv(A) #to declare and creation of Inverse of A\n",
        "print(inv_A) #to display or print"
      ],
      "execution_count": 1,
      "outputs": [
        {
          "output_type": "stream",
          "name": "stdout",
          "text": [
            "[[ 4  3]\n",
            " [-5  9]]\n",
            "[[ 0.17647059 -0.05882353]\n",
            " [ 0.09803922  0.07843137]]\n"
          ]
        }
      ]
    },
    {
      "cell_type": "code",
      "metadata": {
        "colab": {
          "base_uri": "https://localhost:8080/"
        },
        "id": "Tv_rLjIvYRY0",
        "outputId": "09d4b957-17e2-402d-a89f-b36a5ccc41e9"
      },
      "source": [
        "B= np.array([[20],[26]]) #creation of Matrix B\n",
        "print(B)"
      ],
      "execution_count": 2,
      "outputs": [
        {
          "output_type": "stream",
          "name": "stdout",
          "text": [
            "[[20]\n",
            " [26]]\n"
          ]
        }
      ]
    },
    {
      "cell_type": "code",
      "metadata": {
        "colab": {
          "base_uri": "https://localhost:8080/"
        },
        "id": "tQElo8uoYT36",
        "outputId": "cb725c33-77d8-4e9b-9641-2efbec0ca26b"
      },
      "source": [
        "X= np.linalg.inv(A).dot(B) #compute for the dot product of Inv of A & value of B\n",
        "print(X)\n"
      ],
      "execution_count": 3,
      "outputs": [
        {
          "output_type": "stream",
          "name": "stdout",
          "text": [
            "[[2.]\n",
            " [4.]]\n"
          ]
        }
      ]
    },
    {
      "cell_type": "code",
      "metadata": {
        "colab": {
          "base_uri": "https://localhost:8080/"
        },
        "id": "CV0Lv_zFYXQF",
        "outputId": "89b39ff5-7086-4e28-fa2b-1b359de02c78"
      },
      "source": [
        "X= np.dot(inv_A,B) #to compute for the dot product of Inv of A and B\n",
        "print(X)"
      ],
      "execution_count": 4,
      "outputs": [
        {
          "output_type": "stream",
          "name": "stdout",
          "text": [
            "[[2.]\n",
            " [4.]]\n"
          ]
        }
      ]
    },
    {
      "cell_type": "markdown",
      "metadata": {
        "id": "oWAKv8iuYanE"
      },
      "source": [
        "## You try!"
      ]
    },
    {
      "cell_type": "code",
      "metadata": {
        "colab": {
          "base_uri": "https://localhost:8080/"
        },
        "id": "eehM8ohTYdCX",
        "outputId": "c84b34fa-ce4a-4068-b2bb-6871b80521a7"
      },
      "source": [
        "X = np.array([[4,3,2],[-2,2,3],[3,-5,2]]) #creation of Matrix X\n",
        "y = np.array([[25],[-10],[-4]]) #creation of Matix y\n",
        "\n",
        "inv_X = np.linalg.inv(X) #to Inverse the Matrix X\n",
        "b = np.linalg.inv(X).dot(y) #To get dot product of Inverse of X and y\n",
        "\n",
        "#to print or display\n",
        "print(X)\n",
        "print()\n",
        "print(inv_X)\n",
        "print()\n",
        "print(y)\n",
        "print()\n",
        "print(b)"
      ],
      "execution_count": 5,
      "outputs": [
        {
          "output_type": "stream",
          "name": "stdout",
          "text": [
            "[[ 4  3  2]\n",
            " [-2  2  3]\n",
            " [ 3 -5  2]]\n",
            "\n",
            "[[ 0.15447154 -0.1300813   0.04065041]\n",
            " [ 0.10569106  0.01626016 -0.1300813 ]\n",
            " [ 0.03252033  0.23577236  0.11382114]]\n",
            "\n",
            "[[ 25]\n",
            " [-10]\n",
            " [ -4]]\n",
            "\n",
            "[[ 5.]\n",
            " [ 3.]\n",
            " [-2.]]\n"
          ]
        }
      ]
    },
    {
      "cell_type": "code",
      "metadata": {
        "colab": {
          "base_uri": "https://localhost:8080/"
        },
        "id": "sOUOdST7YgyM",
        "outputId": "7122a865-10e2-432a-89e9-2b0026895e95"
      },
      "source": [
        "A= np.array([[20,10],[17,22]]) #creation of Matrix A\n",
        "print(A)\n",
        "inv_A = np.linalg.inv(A) #Inverse of matrix A\n",
        "print(inv_A)"
      ],
      "execution_count": 6,
      "outputs": [
        {
          "output_type": "stream",
          "name": "stdout",
          "text": [
            "[[20 10]\n",
            " [17 22]]\n",
            "[[ 0.08148148 -0.03703704]\n",
            " [-0.06296296  0.07407407]]\n"
          ]
        }
      ]
    },
    {
      "cell_type": "code",
      "metadata": {
        "colab": {
          "base_uri": "https://localhost:8080/"
        },
        "id": "T2oAW_ykYjJ7",
        "outputId": "202f30b9-969f-4fe3-e738-eeaf7b7bfd6f"
      },
      "source": [
        "B= np.array([[350],[500]]) #Creation of Matrix B\n",
        "print(B)"
      ],
      "execution_count": 7,
      "outputs": [
        {
          "output_type": "stream",
          "name": "stdout",
          "text": [
            "[[350]\n",
            " [500]]\n"
          ]
        }
      ]
    },
    {
      "cell_type": "code",
      "metadata": {
        "colab": {
          "base_uri": "https://localhost:8080/"
        },
        "id": "yqxAcWlzYlxd",
        "outputId": "d09bbb97-2250-4d4a-d803-b300b0e4367f"
      },
      "source": [
        "X = np.dot(inv_A,B) #To get dot product of Inverse of A and B\n",
        "\n",
        "print(X)"
      ],
      "execution_count": 8,
      "outputs": [
        {
          "output_type": "stream",
          "name": "stdout",
          "text": [
            "[[10.]\n",
            " [15.]]\n"
          ]
        }
      ]
    },
    {
      "cell_type": "markdown",
      "metadata": {
        "id": "aOexDzYlYqtJ"
      },
      "source": [
        "# To check if the answer is correct:"
      ]
    },
    {
      "cell_type": "code",
      "metadata": {
        "colab": {
          "base_uri": "https://localhost:8080/"
        },
        "id": "QlhekvBoYuF9",
        "outputId": "ccb00447-7b4e-4187-e7ec-9044aa43ca74"
      },
      "source": [
        "B = np.dot(A,X)\n",
        "print(B)"
      ],
      "execution_count": 9,
      "outputs": [
        {
          "output_type": "stream",
          "name": "stdout",
          "text": [
            "[[350.]\n",
            " [500.]]\n"
          ]
        }
      ]
    }
  ]
}