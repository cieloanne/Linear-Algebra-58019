{
  "nbformat": 4,
  "nbformat_minor": 0,
  "metadata": {
    "colab": {
      "name": "Final Exam.ipynb",
      "provenance": [],
      "authorship_tag": "ABX9TyMqGG4boDhxGz0GKa6TILOO",
      "include_colab_link": true
    },
    "kernelspec": {
      "name": "python3",
      "display_name": "Python 3"
    },
    "language_info": {
      "name": "python"
    }
  },
  "cells": [
    {
      "cell_type": "markdown",
      "metadata": {
        "id": "view-in-github",
        "colab_type": "text"
      },
      "source": [
        "<a href=\"https://colab.research.google.com/github/cieloanne/Linear-Algebra-58019/blob/main/Final_Exam.ipynb\" target=\"_parent\"><img src=\"https://colab.research.google.com/assets/colab-badge.svg\" alt=\"Open In Colab\"/></a>"
      ]
    },
    {
      "cell_type": "markdown",
      "source": [
        "### Problem 1. Student A, Student B, and Student C have a total of Php 89 cash in their banks. Student A has 6 less than Student C. Student B has 3 times what Student C has. How much does each student have?"
      ],
      "metadata": {
        "id": "KLn21Nw2NL1L"
      }
    },
    {
      "cell_type": "code",
      "execution_count": 9,
      "metadata": {
        "colab": {
          "base_uri": "https://localhost:8080/"
        },
        "id": "bjJZYgZhGQaQ",
        "outputId": "b99dab6b-437e-4b83-bf21-9fef67746a71"
      },
      "outputs": [
        {
          "output_type": "stream",
          "name": "stdout",
          "text": [
            "[[13.]\n",
            " [57.]\n",
            " [19.]]\n"
          ]
        }
      ],
      "source": [
        "import numpy as np\n",
        "eq1 = np.array([[1,1,1],[1,0,4],[0,0,5]])\n",
        "eq2 = np.array([[89],[89],[95]])\n",
        "amt = np.linalg.inv(eq1).dot(eq2)\n",
        "print(amt)"
      ]
    },
    {
      "cell_type": "markdown",
      "source": [
        "### Problem 2. Solve each system:\n",
        "\n",
        "### 3x - y + z = 5\n",
        "\n",
        "### 9x - 3y +3z = 15\n",
        "\n",
        "### -12x +4y -4z = -20 \n",
        "\n",
        "---\n",
        "\n"
      ],
      "metadata": {
        "id": "Vx_8ROfINUSd"
      }
    },
    {
      "cell_type": "code",
      "source": [
        "A = np.array([[3,-1,1],[9,-3,3],[-12,4,-4]])\n",
        "print(A)\n",
        "B = np.array([[5],[15],[-20]])\n",
        "print(B)\n",
        "Apinv = np.linalg.pinv(A)\n",
        "x = Apinv.dot(B)\n",
        "print(x)"
      ],
      "metadata": {
        "colab": {
          "base_uri": "https://localhost:8080/"
        },
        "id": "yebncvbuJ-4N",
        "outputId": "ef36fdc0-0444-45aa-cf83-fc7bd31eab87"
      },
      "execution_count": 15,
      "outputs": [
        {
          "output_type": "stream",
          "name": "stdout",
          "text": [
            "[[  3  -1   1]\n",
            " [  9  -3   3]\n",
            " [-12   4  -4]]\n",
            "[[  5]\n",
            " [ 15]\n",
            " [-20]]\n",
            "[[ 1.36363636]\n",
            " [-0.45454545]\n",
            " [ 0.45454545]]\n"
          ]
        }
      ]
    },
    {
      "cell_type": "markdown",
      "source": [
        "### Problem 3. Consider the matrix\n",
        "\n",
        "### Find the eigenvalue/s\n",
        "\n",
        "### Find the eigenvectors"
      ],
      "metadata": {
        "id": "-dGVzNz6NiQt"
      }
    },
    {
      "cell_type": "code",
      "source": [
        "import numpy as np\n",
        "from numpy.linalg import eig\n",
        "\n",
        "A = np.array([[8,5,-6],[-12,-9,12],[-3,-3,5]])\n",
        "print(A,\"\\n\")\n",
        "w,v = np.linalg.eig(A) \n",
        "print(\"Eigenvalue/s:\\n\",w.round(),\"\\n\")\n",
        "print(\"Eigenvector/s:\\n\",v.round())"
      ],
      "metadata": {
        "colab": {
          "base_uri": "https://localhost:8080/"
        },
        "id": "W5Jo8ayAJ_DT",
        "outputId": "86e91954-6cd0-4b20-cf3d-4d6ae4754e52"
      },
      "execution_count": 3,
      "outputs": [
        {
          "output_type": "stream",
          "name": "stdout",
          "text": [
            "[[  8   5  -6]\n",
            " [-12  -9  12]\n",
            " [ -3  -3   5]] \n",
            "\n",
            "Eigenvalue/s:\n",
            " [-1.  3.  2.] \n",
            "\n",
            "Eigenvector/s:\n",
            " [[ 0. -1.  1.]\n",
            " [-1.  1.  0.]\n",
            " [-0. -0.  1.]]\n"
          ]
        }
      ]
    }
  ]
}