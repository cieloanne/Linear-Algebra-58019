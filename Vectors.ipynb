{
  "nbformat": 4,
  "nbformat_minor": 0,
  "metadata": {
    "colab": {
      "name": "Vectors.ipynb",
      "provenance": [],
      "authorship_tag": "ABX9TyMLuwy1ojG041ttJal3BCuI",
      "include_colab_link": true
    },
    "kernelspec": {
      "name": "python3",
      "display_name": "Python 3"
    },
    "language_info": {
      "name": "python"
    }
  },
  "cells": [
    {
      "cell_type": "markdown",
      "metadata": {
        "id": "view-in-github",
        "colab_type": "text"
      },
      "source": [
        "<a href=\"https://colab.research.google.com/github/cieloanne/Linear-Algebra-58019/blob/main/Vectors.ipynb\" target=\"_parent\"><img src=\"https://colab.research.google.com/assets/colab-badge.svg\" alt=\"Open In Colab\"/></a>"
      ]
    },
    {
      "cell_type": "code",
      "metadata": {
        "colab": {
          "base_uri": "https://localhost:8080/"
        },
        "id": "CbxXK4fi4z8R",
        "outputId": "b1ba7b87-83cc-47db-a24a-c33dd6c2c128"
      },
      "source": [
        "#numpy\n",
        "import numpy as np\n",
        "a = np.array([1,2,3])\n",
        "print(a)"
      ],
      "execution_count": 1,
      "outputs": [
        {
          "output_type": "stream",
          "name": "stdout",
          "text": [
            "[1 2 3]\n"
          ]
        }
      ]
    },
    {
      "cell_type": "code",
      "metadata": {
        "colab": {
          "base_uri": "https://localhost:8080/"
        },
        "id": "WGfxl2Uw5ZNF",
        "outputId": "15379e12-bd74-438d-8ab3-e6ab2e8fce38"
      },
      "source": [
        "import numpy as np\n",
        "b = np.array(([1,2,3],[4,5,6]))\n",
        "print(b)"
      ],
      "execution_count": 2,
      "outputs": [
        {
          "output_type": "stream",
          "name": "stdout",
          "text": [
            "[[1 2 3]\n",
            " [4 5 6]]\n"
          ]
        }
      ]
    },
    {
      "cell_type": "code",
      "metadata": {
        "colab": {
          "base_uri": "https://localhost:8080/"
        },
        "id": "6SO3cuT45zvs",
        "outputId": "8d803bb0-664a-426f-b79d-027ca9eb3a49"
      },
      "source": [
        "import numpy as np\n",
        "c = np.array([[1,2,3],[4,5,6],[7,8,9]])\n",
        "print(c)"
      ],
      "execution_count": 3,
      "outputs": [
        {
          "output_type": "stream",
          "name": "stdout",
          "text": [
            "[[1 2 3]\n",
            " [4 5 6]\n",
            " [7 8 9]]\n"
          ]
        }
      ]
    },
    {
      "cell_type": "code",
      "metadata": {
        "colab": {
          "base_uri": "https://localhost:8080/"
        },
        "id": "r-YxtPKz6N3r",
        "outputId": "c4cdf5b2-8240-415a-c8c2-6a1b6398c13f"
      },
      "source": [
        "import numpy as np\n",
        "d = np.full((3,3),7)\n",
        "print(d)"
      ],
      "execution_count": 4,
      "outputs": [
        {
          "output_type": "stream",
          "name": "stdout",
          "text": [
            "[[7 7 7]\n",
            " [7 7 7]\n",
            " [7 7 7]]\n"
          ]
        }
      ]
    },
    {
      "cell_type": "code",
      "metadata": {
        "colab": {
          "base_uri": "https://localhost:8080/"
        },
        "id": "1a273MVj6N6a",
        "outputId": "2998406d-6473-4bcc-a946-4338aeb50786"
      },
      "source": [
        "import numpy as np\n",
        "e = np.array ([[1,2,3],[4,5,6],[7,8,9]])\n",
        "print(e)\n",
        "e = np.diagonal ([[1,2,3],[4,5,6],[7,8,9]])\n",
        "print(e)"
      ],
      "execution_count": 5,
      "outputs": [
        {
          "output_type": "stream",
          "name": "stdout",
          "text": [
            "[[1 2 3]\n",
            " [4 5 6]\n",
            " [7 8 9]]\n",
            "[1 5 9]\n"
          ]
        }
      ]
    },
    {
      "cell_type": "code",
      "metadata": {
        "colab": {
          "base_uri": "https://localhost:8080/"
        },
        "id": "wUiUhExT7JZI",
        "outputId": "0857ec9c-3cbd-44ee-cfc2-b32959fef104"
      },
      "source": [
        "import numpy as np\n",
        "f = np.eye(3)\n",
        "print(f)"
      ],
      "execution_count": 6,
      "outputs": [
        {
          "output_type": "stream",
          "name": "stdout",
          "text": [
            "[[1. 0. 0.]\n",
            " [0. 1. 0.]\n",
            " [0. 0. 1.]]\n"
          ]
        }
      ]
    },
    {
      "cell_type": "code",
      "metadata": {
        "colab": {
          "base_uri": "https://localhost:8080/"
        },
        "id": "0ADwjvfU7P_m",
        "outputId": "d0647354-28b2-4bfd-caad-ffeff890cb28"
      },
      "source": [
        "import numpy as np\n",
        "g = np.zeros((3,3))\n",
        "print(g)"
      ],
      "execution_count": 7,
      "outputs": [
        {
          "output_type": "stream",
          "name": "stdout",
          "text": [
            "[[0. 0. 0.]\n",
            " [0. 0. 0.]\n",
            " [0. 0. 0.]]\n"
          ]
        }
      ]
    },
    {
      "cell_type": "code",
      "metadata": {
        "colab": {
          "base_uri": "https://localhost:8080/"
        },
        "id": "cW1DcvPM7QC6",
        "outputId": "26c1f3eb-b0c0-44c5-81e0-018620446a2c"
      },
      "source": [
        "import numpy as np\n",
        "h = np.empty((0,12))\n",
        "print(h)"
      ],
      "execution_count": 8,
      "outputs": [
        {
          "output_type": "stream",
          "name": "stdout",
          "text": [
            "[]\n"
          ]
        }
      ]
    },
    {
      "cell_type": "code",
      "metadata": {
        "colab": {
          "base_uri": "https://localhost:8080/"
        },
        "id": "N1OdNVKs7fKc",
        "outputId": "0818ec44-033b-47b2-9d74-c2d9268aed27"
      },
      "source": [
        "import numpy as np\n",
        "d = np.full ((3,3),7)\n",
        "print(d+d)"
      ],
      "execution_count": 10,
      "outputs": [
        {
          "output_type": "stream",
          "name": "stdout",
          "text": [
            "[[14 14 14]\n",
            " [14 14 14]\n",
            " [14 14 14]]\n"
          ]
        }
      ]
    },
    {
      "cell_type": "code",
      "metadata": {
        "colab": {
          "base_uri": "https://localhost:8080/"
        },
        "id": "T_JkXo6v7fNn",
        "outputId": "fb5ff588-1b12-40b2-c09c-68d3b14481be"
      },
      "source": [
        "import numpy as np\n",
        "d = np.full ((3,3),7)\n",
        "print(d-d)"
      ],
      "execution_count": 11,
      "outputs": [
        {
          "output_type": "stream",
          "name": "stdout",
          "text": [
            "[[0 0 0]\n",
            " [0 0 0]\n",
            " [0 0 0]]\n"
          ]
        }
      ]
    }
  ]
}